{
 "cells": [
  {
   "cell_type": "markdown",
   "metadata": {
    "id": "1_c4hh3ybB5q",
    "tags": []
   },
   "source": [
    "# Systems of Forces & Moments - Couples"
   ]
  },
  {
   "cell_type": "markdown",
   "metadata": {
    "id": "59O6wiMUyQZl",
    "tags": []
   },
   "source": [
    "## Meriam, Kraige & Bolton. *Engineering Mechanics: Statics*. Introductory Problem 2.52"
   ]
  },
  {
   "cell_type": "markdown",
   "metadata": {},
   "source": [
    "<img src=\"couple-mk-ip2_52.png\" width=\"400\" height=\"800\">"
   ]
  },
  {
   "cell_type": "markdown",
   "metadata": {
    "id": "BGV_C_-FySul"
   },
   "source": [
    "The caster unit is subjected to the pair of $80 \\mathrm{-lb}$ forces shown. Determine the moment associated with these forces."
   ]
  },
  {
   "cell_type": "markdown",
   "metadata": {
    "id": "W08ZRM_pexeE",
    "tags": []
   },
   "source": [
    "## Hibbeler. *Engineering Mechanics: Statics*. Problems 4.74 - 4.75"
   ]
  },
  {
   "cell_type": "markdown",
   "metadata": {},
   "source": [
    "<img src=\"h-p4_74-75.png\" width=\"400\" height=\"800\">"
   ]
  },
  {
   "cell_type": "markdown",
   "metadata": {},
   "source": [
    "**P4.74** The man tries to open the valve by applying the couple forces of $F = 75 \\, \\mathrm{N}$ to the wheel. Determine the couple moment produced."
   ]
  },
  {
   "cell_type": "markdown",
   "metadata": {
    "id": "qC-Un5Fejiwr"
   },
   "source": [
    "**P4.75** If the valve can be opened with a couple moment of $25 \\, \\mathrm{N \\cdot m}$, determine the required magnitude of each couple force which must be applied to the wheel."
   ]
  },
  {
   "cell_type": "markdown",
   "metadata": {
    "id": "59O6wiMUyQZl",
    "tags": []
   },
   "source": [
    "## Meriam, Kraige & Bolton. *Engineering Mechanics: Statics*. Introductory Problem 2.56"
   ]
  },
  {
   "cell_type": "markdown",
   "metadata": {},
   "source": [
    "<img src=\"couple-mk-ip2_56.png\" width=\"400\" height=\"800\">"
   ]
  },
  {
   "cell_type": "markdown",
   "metadata": {},
   "source": [
    "The top view of a revolving entrance door is shown. Two persons simultaneously approach the door and exert forces of equal magnitudes as shown. If the resulting moment about the door pivot axis at $O$ is $25 \\, \\mathrm{N \\cdot m}$, determine the force magnitude F."
   ]
  },
  {
   "cell_type": "markdown",
   "metadata": {
    "id": "59O6wiMUyQZl",
    "tags": []
   },
   "source": [
    "## Hibbeler. *Engineering Mechanics: Statics*. Fundamental Problem 4.22"
   ]
  },
  {
   "cell_type": "markdown",
   "metadata": {},
   "source": [
    "<img src=\"h-fp4_22.png\" width=\"400\" height=\"800\">"
   ]
  },
  {
   "cell_type": "markdown",
   "metadata": {},
   "source": [
    "Determine the couple moment acting on the beam."
   ]
  },
  {
   "cell_type": "markdown",
   "metadata": {
    "tags": []
   },
   "source": [
    "## Meriam, Kraige & Bolton. *Engineering Mechanics: Statics*. Introductory Problem 2.57"
   ]
  },
  {
   "cell_type": "markdown",
   "metadata": {},
   "source": [
    "<img src=\"couple-mk-ip2_57.png\" width=\"400\" height=\"800\">"
   ]
  },
  {
   "cell_type": "markdown",
   "metadata": {},
   "source": [
    "As part of a test, the two aircraft engines are revved up and the propeller pitches are adjusted so as to result in the fore and aft thrusts shown. What force *F* must be exerted by the ground on each of the main braked wheels at *A* and *B* to counteract the turning effect of the two propeller thrusts? Neglect any effects of the nose wheel *C*, which is turned 90° and unbraked."
   ]
  },
  {
   "cell_type": "markdown",
   "metadata": {
    "id": "59O6wiMUyQZl",
    "tags": []
   },
   "source": [
    "## Bedford & Fowler. *Engineering Mechanics: Statics*. Problem 4.118"
   ]
  },
  {
   "cell_type": "markdown",
   "metadata": {},
   "source": [
    "The sum of the moments about point *A* due to the forces and couples acting on the bar is zero. <br>\n",
    "<img src=\"bf-p4_118.png\" width=\"400\" height=\"800\">"
   ]
  },
  {
   "cell_type": "markdown",
   "metadata": {
    "id": "BGV_C_-FySul"
   },
   "source": [
    "**(a)** What is the magnitude of the couple *C*? <br>\n",
    "**(b)** Determine the sum of the moments about point *B* due to the forces and couples acting on the bar. <br>\n",
    "*Hint*. Treat the $5 \\mathrm{-KN}$ force acting at *A* as the sum of a force of $2 \\, \\mathrm{kN}$ with another of $3 \\, \\mathrm{kN}$ acting at the same point."
   ]
  },
  {
   "cell_type": "markdown",
   "metadata": {
    "tags": []
   },
   "source": [
    "## Meriam, Kraige & Bolton. *Engineering Mechanics: Statics*. Introductory Problem 2.112"
   ]
  },
  {
   "cell_type": "markdown",
   "metadata": {},
   "source": [
    "<img src=\"mk-ip2_112.png\" width=\"400\" height=\"800\">"
   ]
  },
  {
   "cell_type": "markdown",
   "metadata": {},
   "source": [
    "Determine the moment associated with the pair of $400 \\mathrm{-N}$ forces applied to the T-shaped structure."
   ]
  }
 ],
 "metadata": {
  "colab": {
   "collapsed_sections": [
    "kuWkL8pGbFFO",
    "W08ZRM_pexeE"
   ],
   "provenance": []
  },
  "kernelspec": {
   "display_name": "Python 3 (ipykernel)",
   "language": "python",
   "name": "python3"
  },
  "language_info": {
   "codemirror_mode": {
    "name": "ipython",
    "version": 3
   },
   "file_extension": ".py",
   "mimetype": "text/x-python",
   "name": "python",
   "nbconvert_exporter": "python",
   "pygments_lexer": "ipython3",
   "version": "3.8.15"
  }
 },
 "nbformat": 4,
 "nbformat_minor": 4
}
